{
  "nbformat": 4,
  "nbformat_minor": 0,
  "metadata": {
    "colab": {
      "name": "Q-learning.ipynb",
      "provenance": []
    },
    "kernelspec": {
      "name": "python3",
      "display_name": "Python 3"
    }
  },
  "cells": [
    {
      "cell_type": "code",
      "metadata": {
        "id": "Zosa_N-iYUG4"
      },
      "source": [
        "import gym\n",
        "import numpy as np\n",
        "import random"
      ],
      "execution_count": null,
      "outputs": []
    },
    {
      "cell_type": "code",
      "metadata": {
        "id": "Iq5FIQvPWGsL",
        "colab": {
          "base_uri": "https://localhost:8080/"
        },
        "outputId": "39c33fd9-9d31-4349-ea77-3084b472e2a9"
      },
      "source": [
        "env = gym.make('FrozenLake-v0')\n",
        "env.render()"
      ],
      "execution_count": null,
      "outputs": [
        {
          "output_type": "stream",
          "text": [
            "\n",
            "\u001b[41mS\u001b[0mFFF\n",
            "FHFH\n",
            "FFFH\n",
            "HFFG\n"
          ],
          "name": "stdout"
        }
      ]
    },
    {
      "cell_type": "code",
      "metadata": {
        "id": "fuI9tHPsYEUR",
        "colab": {
          "base_uri": "https://localhost:8080/"
        },
        "outputId": "f8b4edc3-e86d-4e4e-84e0-3bf015a9a062"
      },
      "source": [
        "state_size=env.observation_space.n\n",
        "action_size=env.action_space.n\n",
        "print(state_size)\n",
        "print(action_size)"
      ],
      "execution_count": null,
      "outputs": [
        {
          "output_type": "stream",
          "text": [
            "16\n",
            "4\n"
          ],
          "name": "stdout"
        }
      ]
    },
    {
      "cell_type": "code",
      "metadata": {
        "colab": {
          "base_uri": "https://localhost:8080/"
        },
        "id": "0kbfkwtJ-Akv",
        "outputId": "c31cfe48-d1f9-4f6e-be5d-7ae73970fe52"
      },
      "source": [
        "qtable=np.zeros((state_size, action_size))\n",
        "print(qtable)"
      ],
      "execution_count": null,
      "outputs": [
        {
          "output_type": "stream",
          "text": [
            "[[0. 0. 0. 0.]\n",
            " [0. 0. 0. 0.]\n",
            " [0. 0. 0. 0.]\n",
            " [0. 0. 0. 0.]\n",
            " [0. 0. 0. 0.]\n",
            " [0. 0. 0. 0.]\n",
            " [0. 0. 0. 0.]\n",
            " [0. 0. 0. 0.]\n",
            " [0. 0. 0. 0.]\n",
            " [0. 0. 0. 0.]\n",
            " [0. 0. 0. 0.]\n",
            " [0. 0. 0. 0.]\n",
            " [0. 0. 0. 0.]\n",
            " [0. 0. 0. 0.]\n",
            " [0. 0. 0. 0.]\n",
            " [0. 0. 0. 0.]]\n"
          ],
          "name": "stdout"
        }
      ]
    },
    {
      "cell_type": "code",
      "metadata": {
        "id": "9Xvb3hKzYuEL"
      },
      "source": [
        "total_episodes=20000\n",
        "max_steps=100\n",
        "alpha=0.8\n",
        "gamma=0.90\n",
        "epsilon=0.8"
      ],
      "execution_count": null,
      "outputs": []
    },
    {
      "cell_type": "code",
      "metadata": {
        "colab": {
          "base_uri": "https://localhost:8080/"
        },
        "id": "jNCQBD6pZV3P",
        "outputId": "2884f254-14a4-462e-c405-a35d13fbe4ee"
      },
      "source": [
        "for episode in range(total_episodes):\n",
        "  state=env.reset()\n",
        "  reward=0\n",
        "  total_rewards=0\n",
        "  for step in range(max_steps):\n",
        "    if random.uniform(0,1)>epsilon:\n",
        "      action=np.argmax(qtable[state,:])\n",
        "    else:\n",
        "      action=env.action_space.sample()\n",
        "    \n",
        "    new_state,reward,done,info=env.step(action)\n",
        "    qtable[state, action] = qtable[state, action] + alpha * (reward + gamma * np.max(qtable[new_state, :]) - qtable[state, action])\n",
        "\n",
        "    total_rewards+=reward\n",
        "    state=new_state\n",
        "\n",
        "    if done==True:\n",
        "      break\n",
        "print(qtable)"
      ],
      "execution_count": null,
      "outputs": [
        {
          "output_type": "stream",
          "text": [
            "[[0.28681739 0.28381309 0.32348022 0.29218989]\n",
            " [0.25705964 0.24848883 0.27786607 0.41141272]\n",
            " [0.49360481 0.26282487 0.27002067 0.28422963]\n",
            " [0.28879658 0.17147311 0.01037537 0.24978857]\n",
            " [0.34935411 0.07658259 0.07540234 0.25987082]\n",
            " [0.         0.         0.         0.        ]\n",
            " [0.39748166 0.65358728 0.52494833 0.03796535]\n",
            " [0.         0.         0.         0.        ]\n",
            " [0.06673159 0.08790947 0.34017708 0.42444871]\n",
            " [0.09718888 0.46454048 0.41706961 0.09478101]\n",
            " [0.57585835 0.0244925  0.14245433 0.36778039]\n",
            " [0.         0.         0.         0.        ]\n",
            " [0.         0.         0.         0.        ]\n",
            " [0.44617227 0.14685962 0.55982482 0.7332426 ]\n",
            " [0.64229181 0.88035377 0.98613055 0.7679467 ]\n",
            " [0.         0.         0.         0.        ]]\n"
          ],
          "name": "stdout"
        }
      ]
    },
    {
      "cell_type": "code",
      "metadata": {
        "id": "Vgoh-I-XZc0A",
        "colab": {
          "base_uri": "https://localhost:8080/"
        },
        "outputId": "618c117f-f110-426e-83d9-782ebe4c6065"
      },
      "source": [
        "env.reset()\n",
        "for episode in range(5):\n",
        "  state=env.reset()\n",
        "  step=0\n",
        "  done=False\n",
        "  print('********************')\n",
        "  print('EPISODE',episode)\n",
        "\n",
        "  for step in range(max_steps):\n",
        "    action=np.argmax(qtable[state,:])\n",
        "    new_state,reward,done,info=env.step(action)\n",
        "    if done:\n",
        "      env.render()\n",
        "      if new_state==15:\n",
        "        print('Reached')\n",
        "      else:\n",
        "        print('Hole')\n",
        "      print('No. of steps=',step) \n",
        "      break\n",
        "    state=new_state\n",
        "env.close()\n"
      ],
      "execution_count": null,
      "outputs": [
        {
          "output_type": "stream",
          "text": [
            "********************\n",
            "EPISODE 0\n",
            "  (Left)\n",
            "SFFF\n",
            "F\u001b[41mH\u001b[0mFH\n",
            "FFFH\n",
            "HFFG\n",
            "Hole\n",
            "No. of steps= 10\n",
            "********************\n",
            "EPISODE 1\n",
            "  (Up)\n",
            "SFFF\n",
            "F\u001b[41mH\u001b[0mFH\n",
            "FFFH\n",
            "HFFG\n",
            "Hole\n",
            "No. of steps= 97\n",
            "********************\n",
            "EPISODE 2\n",
            "  (Down)\n",
            "SFFF\n",
            "FHFH\n",
            "FFFH\n",
            "HFF\u001b[41mG\u001b[0m\n",
            "Reached\n",
            "No. of steps= 79\n",
            "********************\n",
            "EPISODE 3\n",
            "  (Down)\n",
            "SFFF\n",
            "FHFH\n",
            "FFFH\n",
            "HFF\u001b[41mG\u001b[0m\n",
            "Reached\n",
            "No. of steps= 65\n",
            "********************\n",
            "EPISODE 4\n",
            "  (Left)\n",
            "SFFF\n",
            "F\u001b[41mH\u001b[0mFH\n",
            "FFFH\n",
            "HFFG\n",
            "Hole\n",
            "No. of steps= 35\n"
          ],
          "name": "stdout"
        }
      ]
    }
  ]
}